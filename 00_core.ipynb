{
 "cells": [
  {
   "cell_type": "markdown",
   "metadata": {},
   "source": [
    "# Fewsats Client\n",
    "\n",
    "This notebook demonstrates the implementation of the Fewsats client, a Python SDK for interacting with the Fewsats API. We'll build the client step by step, explaining each part as we go."
   ]
  },
  {
   "cell_type": "code",
   "execution_count": null,
   "metadata": {},
   "outputs": [],
   "source": [
    "#| default_exp core"
   ]
  },
  {
   "cell_type": "code",
   "execution_count": null,
   "metadata": {},
   "outputs": [],
   "source": [
    "#| export\n",
    "from fastcore.utils import *\n",
    "import os\n",
    "import requests\n",
    "from typing import Dict, Any, List"
   ]
  },
  {
   "cell_type": "markdown",
   "metadata": {},
   "source": [
    "## The Fewsats Client\n",
    "\n",
    "We'll start by creating the base `Fewsats` class. This class will handle authentication and provide the foundation for our API interactions."
   ]
  },
  {
   "cell_type": "code",
   "execution_count": null,
   "metadata": {},
   "outputs": [],
   "source": [
    "#| export\n",
    "class Fewsats:\n",
    "    def __init__(self, api_key: str = None, base_url: str = \"https://hub-5n97k.ondigitalocean.app/\"):\n",
    "        self.api_key = api_key or os.environ.get(\"HUB_API_TOKEN\")\n",
    "        if not self.api_key:\n",
    "            raise ValueError(\"API key not provided and HUB_API_TOKEN environment variable is not set\")\n",
    "        self.base_url = base_url\n",
    "        self.session = requests.Session()\n",
    "        self.session.headers.update({\"Authorization\": f\"Token {self.api_key}\"})\n",
    "\n",
    "@patch\n",
    "def _request(self: Fewsats, method: str, endpoint: str, **kwargs) -> Dict[str, Any]:\n",
    "    url = f\"{self.base_url}/{endpoint}\"\n",
    "    response = self.session.request(method, url, **kwargs)\n",
    "    response.raise_for_status()\n",
    "    return response.json()\n"
   ]
  },
  {
   "cell_type": "code",
   "execution_count": null,
   "metadata": {},
   "outputs": [],
   "source": [
    "client = Fewsats(api_key=\"nJ2ro5V9x69JDEhEGyjnzfg6kTkk4LQjukIbfDmuOec\",\n",
    "                 base_url=\"http://localhost:8000\")"
   ]
  },
  {
   "cell_type": "markdown",
   "metadata": {},
   "source": [
    "Now that we have our base client, let's add methods to interact with the API. We'll use the `@patch` decorator to add these methods to our `Fewsats` class."
   ]
  },
  {
   "cell_type": "markdown",
   "metadata": {},
   "source": [
    "## Payment Methods\n",
    "\n",
    "First, let's add a method to retrieve the user's payment methods. This will be useful for checking which card will be used for purchases."
   ]
  },
  {
   "cell_type": "code",
   "execution_count": null,
   "metadata": {},
   "outputs": [],
   "source": [
    "#| export\n",
    "@patch\n",
    "def get_payment_methods(self: Fewsats) -> List[Dict[str, Any]]:\n",
    "    \"\"\"Retrieve the user's payment methods.\n",
    "    \n",
    "    Returns:\n",
    "        List[Dict[str, Any]]: A list of payment methods associated with the user's account.\n",
    "    \"\"\"\n",
    "    return self._request(\"GET\", \"v0/stripe/payment-methods\")\n"
   ]
  },
  {
   "cell_type": "code",
   "execution_count": null,
   "metadata": {},
   "outputs": [
    {
     "data": {
      "text/plain": [
       "[{'id': 1,\n",
       "  'last4': '4242',\n",
       "  'brand': 'visa',\n",
       "  'exp_month': 12,\n",
       "  'exp_year': 2034,\n",
       "  'is_default': True}]"
      ]
     },
     "execution_count": null,
     "metadata": {},
     "output_type": "execute_result"
    }
   ],
   "source": [
    "\n",
    "payment_methods = client.get_payment_methods()\n",
    "payment_methods"
   ]
  },
  {
   "cell_type": "markdown",
   "metadata": {},
   "source": [
    "## Preview Purchase\n",
    "\n",
    "Now, let's add a method to preview a purchase. This method will use the default payment method if a charge is needed."
   ]
  },
  {
   "cell_type": "code",
   "execution_count": null,
   "metadata": {},
   "outputs": [],
   "source": [
    "#| export\n",
    "@patch\n",
    "def preview_purchase(self: Fewsats, l402_url: str) -> Dict[str, Any]:\n",
    "    \"\"\"Preview a purchase for the given L402 URL.\n",
    "    \n",
    "    This method will use the default payment method if a charge is needed.\n",
    "    \n",
    "    Args:\n",
    "        l402_url (str): The L402 URL for the purchase.\n",
    "    \n",
    "    Returns:\n",
    "        Dict[str, Any]: The preview details of the purchase.\n",
    "    \"\"\"\n",
    "    return self._request(\"POST\", \"v0/l402/preview/purchase\", json={\"l402_url\": l402_url})\n"
   ]
  },
  {
   "cell_type": "code",
   "execution_count": null,
   "metadata": {},
   "outputs": [
    {
     "data": {
      "text/plain": [
       "{'invoice': {'description': 'USK House',\n",
       "  'amount_usd': 1,\n",
       "  'amount_btc': 17,\n",
       "  'macaroon': 'AgELZmV3c2F0cy5jb20CQgAAixN/Z/Yq2hOpxABgPnQ2Pp6GZeYbVOF01xAz/yL31noCFMS09vuHHdQXNTkos6dnucW9CK3dDGQqUFpAfCMDIAACLGZpbGVfaWQ9MmU1NGFjMjktNTk0NS00YjVmLTkzZGItOTk4YTUzNWE1YTQ5AAIfZXhwaXJlc19hdD0yMDI1LTA4LTI0VDEwOjQwOjI5WgAABiCw1A4Ve05yJrCKb2IDKWSK8gAHl9JqdbzavDLhr4yMCQ==',\n",
       "  'invoice': 'lnbc170n1pndq5qapp53vfh7elk9tdp82wyqpsruapk860gve0xrd2wzaxhzqel7ghh6eaqdq024f5kgzgda6hxegcqzzsxqyz5vqsp5z67p2wxkyxm6p594d0dwcx55nn7kk3ruc0qhna7zvtl364g0fsys9qxpqysgq75nauzznx07hxp5sc0kkrwfcgy57qvxrut3wf0mwhmrqh7lgyhcxymq7vm5agfm4tkjmhnn409rnzschmz7hcw5vhwjnxlxm7u680xcq2qp8wl'},\n",
       " 'transaction': {'current_balance': 1999,\n",
       "  'balance_to_apply': 1,\n",
       "  'amount_to_charge': 0,\n",
       "  'final_balance': 1998},\n",
       " 'already_purchased': True,\n",
       " 'purchase': {'id': 3,\n",
       "  'user_id': 1,\n",
       "  'l402_url': 'https://api.fewsats.com/v0/storage/download/2e54ac29-5945-4b5f-93db-998a535a5a49',\n",
       "  'currency': 'usd',\n",
       "  'amount': 1,\n",
       "  'macaroon': 'AgELZmV3c2F0cy5jb20CQgAADkZv2VQjgOG+iwoFB5CXg5yInkncy5xEGQZKrkphETmU9+MjeNM4bsj1j5l5KKvildd2pHdtrW+ChXQOQ/fZzgACLGZpbGVfaWQ9MmU1NGFjMjktNTk0NS00YjVmLTkzZGItOTk4YTUzNWE1YTQ5AAIfZXhwaXJlc19hdD0yMDI1LTA4LTIzVDE0OjQ3OjI1WgAABiBIoB5sUXEXijxuyL2cjn0WIgLpOCtt8UcGaGn9N/8n0Q==',\n",
       "  'invoice': 'lnbc170n1pnv7wrapp5perxlk25ywqwr05tpgzs0yyhswwg38jfmn9ec3qeqe92ujnpzyusdq024f5kgzgda6hxegcqzzsxqyz5vqsp54ceypjapjxntxrtnhkyfrds7m5u9stn8x6gkmf5dx6z56ksy6l3q9qxpqysgqnkxdtwqxhkvrav3d3wv83yxn45yrdywxu2mnyh4p7ecncuqsv4gn0xrfl6w57hd9lnc5eghdf536dqy5gf2uuly04nrtdjcwvezkt6cqtttnzj',\n",
       "  'description': 'USK House',\n",
       "  'preimage': 'b184b87e7a4f802bf41cd26c82d9d883b9cf7bb86f8dcfc4f394634ff711f628',\n",
       "  'valid': True,\n",
       "  'created_at': '2024-08-28T14:47:26.904Z'}}"
      ]
     },
     "execution_count": null,
     "metadata": {},
     "output_type": "execute_result"
    }
   ],
   "source": [
    "\n",
    "# Let's test our preview_purchase method\n",
    "l402_url = \"https://api.fewsats.com/v0/storage/download/2e54ac29-5945-4b5f-93db-998a535a5a49\"\n",
    "preview = client.preview_purchase(l402_url)\n",
    "preview"
   ]
  },
  {
   "cell_type": "markdown",
   "metadata": {},
   "source": [
    "## Make a Purchase\n",
    "\n",
    "Finally, let's add a method to make a purchase. Like the preview method, this will use the default payment method if a charge is needed."
   ]
  },
  {
   "cell_type": "code",
   "execution_count": null,
   "metadata": {},
   "outputs": [],
   "source": [
    "#| export\n",
    "@patch\n",
    "def purchase(self: Fewsats, l402_url: str) -> Dict[str, Any]:\n",
    "    \"\"\"Make a purchase for the given L402 URL.\n",
    "    \n",
    "    This method will use the default payment method if a charge is needed.\n",
    "    \n",
    "    Args:\n",
    "        l402_url (str): The L402 URL for the purchase.\n",
    "    \n",
    "    Returns:\n",
    "        Dict[str, Any]: The details of the completed purchase.\n",
    "    \"\"\"\n",
    "    return self._request(\"POST\", \"v0/l402/purchases\", json={\"l402_url\": l402_url})\n"
   ]
  },
  {
   "cell_type": "code",
   "execution_count": null,
   "metadata": {},
   "outputs": [
    {
     "name": "stdout",
     "output_type": "stream",
     "text": [
      "Purchase result: {'id': 3, 'created_at': '2024-08-28T14:47:26.904Z', 'l402_url': 'https://api.fewsats.com/v0/storage/download/2e54ac29-5945-4b5f-93db-998a535a5a49', 'macaroon': 'AgELZmV3c2F0cy5jb20CQgAADkZv2VQjgOG+iwoFB5CXg5yInkncy5xEGQZKrkphETmU9+MjeNM4bsj1j5l5KKvildd2pHdtrW+ChXQOQ/fZzgACLGZpbGVfaWQ9MmU1NGFjMjktNTk0NS00YjVmLTkzZGItOTk4YTUzNWE1YTQ5AAIfZXhwaXJlc19hdD0yMDI1LTA4LTIzVDE0OjQ3OjI1WgAABiBIoB5sUXEXijxuyL2cjn0WIgLpOCtt8UcGaGn9N/8n0Q==', 'invoice': 'lnbc170n1pnv7wrapp5perxlk25ywqwr05tpgzs0yyhswwg38jfmn9ec3qeqe92ujnpzyusdq024f5kgzgda6hxegcqzzsxqyz5vqsp54ceypjapjxntxrtnhkyfrds7m5u9stn8x6gkmf5dx6z56ksy6l3q9qxpqysgqnkxdtwqxhkvrav3d3wv83yxn45yrdywxu2mnyh4p7ecncuqsv4gn0xrfl6w57hd9lnc5eghdf536dqy5gf2uuly04nrtdjcwvezkt6cqtttnzj', 'preimage': 'b184b87e7a4f802bf41cd26c82d9d883b9cf7bb86f8dcfc4f394634ff711f628', 'amount': 1, 'currency': 'usd', 'description': 'USK House'}\n"
     ]
    }
   ],
   "source": [
    "\n",
    "# Let's test our purchase method\n",
    "purchase_result = client.purchase(l402_url)\n",
    "print(f\"Purchase result: {purchase_result}\")"
   ]
  },
  {
   "cell_type": "markdown",
   "metadata": {},
   "source": [
    "## Conclusion\n",
    "\n",
    "We've now built a simple, intuitive Fewsats client that can:\n",
    "1. Retrieve the user's payment methods\n",
    "2. Preview a purchase\n",
    "3. Make a purchase\n",
    "\n",
    "Both the preview and purchase methods automatically use the default payment method if a charge is needed. This client provides a straightforward way to interact with the Fewsats API, making it easy for developers to integrate Fewsats functionality into their applications."
   ]
  },
  {
   "cell_type": "code",
   "execution_count": null,
   "metadata": {},
   "outputs": [],
   "source": [
    "#| hide\n",
    "import nbdev; nbdev.nbdev_export()"
   ]
  }
 ],
 "metadata": {
  "kernelspec": {
   "display_name": "python3",
   "language": "python",
   "name": "python3"
  },
  "language_info": {
   "name": "python",
   "version": "3.12.3"
  }
 },
 "nbformat": 4,
 "nbformat_minor": 2
}
