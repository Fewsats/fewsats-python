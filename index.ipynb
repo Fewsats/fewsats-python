{
 "cells": [
  {
   "cell_type": "code",
   "execution_count": 6,
   "metadata": {},
   "outputs": [],
   "source": [
    "#| hide\n",
    "from fewsats.core import *\n",
    "from nbdev.showdoc import show_doc"
   ]
  },
  {
   "cell_type": "markdown",
   "metadata": {},
   "source": [
    "# fewsats\n",
    "\n",
    "> Python SDK for Fewsats API\n"
   ]
  },
  {
   "cell_type": "markdown",
   "metadata": {},
   "source": [
    "\n",
    "## What's this all about?\n",
    "\n",
    "[L402](https://l402.org) enables internet-native payments using the HTTP status code `402 Payment Required`. It's built on the [Lightning Network](https://lightning.network/), a layer on top of Bitcoin, making it extremely fast. But there's a catch: not many people have Bitcoin to spend.\n",
    "\n",
    "That's where [Hub](https://paywithhub.com) comes in. It lets you use dollars to buy L402 links, keeping the advantages of L402 without needing cryptocurrency.\n",
    "\n",
    "This library helps your AI agents leverage Hub to access paywalled content programmatically. No crypto knowledge required."
   ]
  },
  {
   "cell_type": "markdown",
   "metadata": {},
   "source": [
    "## Install"
   ]
  },
  {
   "cell_type": "markdown",
   "metadata": {},
   "source": [
    "```sh\n",
    "pip install fewsats\n",
    "```"
   ]
  },
  {
   "cell_type": "markdown",
   "metadata": {},
   "source": [
    "## How to use"
   ]
  },
  {
   "cell_type": "markdown",
   "metadata": {},
   "source": [
    "Before using the library, you need to sign up at https://paywithhub.com. Verify your email, and then generate an API key.\n",
    "\n",
    "First, import the Fewsats class:"
   ]
  },
  {
   "cell_type": "code",
   "execution_count": 7,
   "metadata": {},
   "outputs": [],
   "source": [
    "from fewsats import Fewsats"
   ]
  },
  {
   "cell_type": "markdown",
   "metadata": {},
   "source": [
    "Initialize the Fewsats client:"
   ]
  },
  {
   "cell_type": "code",
   "execution_count": 11,
   "metadata": {},
   "outputs": [],
   "source": [
    "client = Fewsats(api_key=\"nJ2ro5V9x69JDEhEGyjnzfg6kTkk4LQjukIbfDmuOec\",\n",
    "                 base_url=\"http://localhost:8000\")\n",
    "# Leave base_url blank to use the default production URL\n",
    "# You can also set the HUB_API_TOKEN environment variable instead of passing the api_key directly"
   ]
  },
  {
   "cell_type": "markdown",
   "metadata": {},
   "source": [
    "## Get Payment Methods"
   ]
  },
  {
   "cell_type": "markdown",
   "metadata": {},
   "source": [
    "You can retrieve the user's payment methods using the `get_payment_methods` method:"
   ]
  },
  {
   "cell_type": "code",
   "execution_count": 12,
   "metadata": {},
   "outputs": [
    {
     "data": {
      "text/plain": [
       "[{'id': 1,\n",
       "  'last4': '4242',\n",
       "  'brand': 'visa',\n",
       "  'exp_month': 12,\n",
       "  'exp_year': 2034,\n",
       "  'is_default': True}]"
      ]
     },
     "execution_count": 12,
     "metadata": {},
     "output_type": "execute_result"
    }
   ],
   "source": [
    "payment_methods = client.get_payment_methods()\n",
    "payment_methods"
   ]
  },
  {
   "cell_type": "markdown",
   "metadata": {},
   "source": [
    "**Note**: The default payment method is always used when making purchases."
   ]
  },
  {
   "cell_type": "markdown",
   "metadata": {},
   "source": [
    "## Preview a purchase"
   ]
  },
  {
   "cell_type": "markdown",
   "metadata": {},
   "source": [
    "You can preview a purchase using the `preview_purchase` method:"
   ]
  },
  {
   "cell_type": "code",
   "execution_count": 13,
   "metadata": {},
   "outputs": [
    {
     "data": {
      "text/plain": [
       "{'invoice': {'description': 'LN Nodes by Median Fee',\n",
       "  'amount_usd': 99,\n",
       "  'amount_btc': 1686,\n",
       "  'macaroon': 'AgELZmV3c2F0cy5jb20CQgAAXTNbwmnvNDOZX9MinU0glsObHI02zniMY1EBsvQCKDEDNlwDmu8HNIZuHE6U1rVDNLWk8CBlqtewn8NAfr360wACLGZpbGVfaWQ9ZGU4ZDRjMTktNWE4OC00N2ZjLWFmYTEtZTUxNGIxY2RjOWU4AAIfZXhwaXJlc19hdD0yMDI1LTA4LTI0VDE4OjQ3OjE2WgAABiAtmy8gDmcF9dL930VqQItQILckZ5xtdfSmYpQWgcPuRg==',\n",
       "  'invoice': 'lnbc16860n1pndps35pp5t5e4hsnfau6r8x2l6v3f6nfqjmpek8ydxm883rrr2yqm9aqz9qcsdpyf38zqnn0v3jhxgrz0ysy6etyd9skugzxv4jscqzzsxqyz5vqsp5gn24te60qayyzqcxq6fyp58ukvtl69jqyujsmrfd2kxe2dwxwfeq9qxpqysgq36lfzryhz97jdhhzg05xlq05p30u36g6lr0p2ch7unu79dmg2w7kdeza4h8e8md7y3w2zxk862xu9ztue69f2mrnyrmlq95685py6rsqc3awvr'},\n",
       " 'transaction': {'current_balance': 1999,\n",
       "  'balance_to_apply': 99,\n",
       "  'amount_to_charge': 0,\n",
       "  'final_balance': 1900},\n",
       " 'already_purchased': False,\n",
       " 'purchase': None}"
      ]
     },
     "execution_count": 13,
     "metadata": {},
     "output_type": "execute_result"
    }
   ],
   "source": [
    "l402_url = \"https://api.fewsats.com/v0/storage/download/de8d4c19-5a88-47fc-afa1-e514b1cdc9e8\"\n",
    "preview = client.preview_purchase(l402_url)\n",
    "preview"
   ]
  },
  {
   "cell_type": "markdown",
   "metadata": {},
   "source": [
    "## Make a purchase"
   ]
  },
  {
   "cell_type": "markdown",
   "metadata": {},
   "source": [
    "To make a purchase, use the `purchase` method:"
   ]
  },
  {
   "cell_type": "code",
   "execution_count": null,
   "metadata": {},
   "outputs": [
    {
     "data": {
      "text/plain": [
       "{'id': 3,\n",
       " 'created_at': '2024-08-28T14:47:26.904Z',\n",
       " 'l402_url': 'https://api.fewsats.com/v0/storage/download/2e54ac29-5945-4b5f-93db-998a535a5a49',\n",
       " 'macaroon': 'AgELZmV3c2F0cy5jb20CQgAADkZv2VQjgOG+iwoFB5CXg5yInkncy5xEGQZKrkphETmU9+MjeNM4bsj1j5l5KKvildd2pHdtrW+ChXQOQ/fZzgACLGZpbGVfaWQ9MmU1NGFjMjktNTk0NS00YjVmLTkzZGItOTk4YTUzNWE1YTQ5AAIfZXhwaXJlc19hdD0yMDI1LTA4LTIzVDE0OjQ3OjI1WgAABiBIoB5sUXEXijxuyL2cjn0WIgLpOCtt8UcGaGn9N/8n0Q==',\n",
       " 'invoice': 'lnbc170n1pnv7wrapp5perxlk25ywqwr05tpgzs0yyhswwg38jfmn9ec3qeqe92ujnpzyusdq024f5kgzgda6hxegcqzzsxqyz5vqsp54ceypjapjxntxrtnhkyfrds7m5u9stn8x6gkmf5dx6z56ksy6l3q9qxpqysgqnkxdtwqxhkvrav3d3wv83yxn45yrdywxu2mnyh4p7ecncuqsv4gn0xrfl6w57hd9lnc5eghdf536dqy5gf2uuly04nrtdjcwvezkt6cqtttnzj',\n",
       " 'preimage': 'b184b87e7a4f802bf41cd26c82d9d883b9cf7bb86f8dcfc4f394634ff711f628',\n",
       " 'amount': 1,\n",
       " 'currency': 'usd',\n",
       " 'description': 'USK House'}"
      ]
     },
     "execution_count": 10,
     "metadata": {},
     "output_type": "execute_result"
    }
   ],
   "source": [
    "purchase = client.purchase(l402_url)\n",
    "purchase"
   ]
  }
 ],
 "metadata": {
  "kernelspec": {
   "display_name": "python3",
   "language": "python",
   "name": "python3"
  },
  "language_info": {
   "codemirror_mode": {
    "name": "ipython",
    "version": 3
   },
   "file_extension": ".py",
   "mimetype": "text/x-python",
   "name": "python",
   "nbconvert_exporter": "python",
   "pygments_lexer": "ipython3",
   "version": "3.12.3"
  }
 },
 "nbformat": 4,
 "nbformat_minor": 2
}
